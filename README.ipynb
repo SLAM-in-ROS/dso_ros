{
 "cells": [
  {
   "cell_type": "markdown",
   "metadata": {},
   "source": [
    "# ROS Wrapper around DSO: Direct Sparse Odometry\n",
    "\n",
    "For more information see\n",
    "[https://vision.in.tum.de/dso](https://vision.in.tum.de/dso)\n",
    "\n",
    "This is meant as simple, minimal example of how to integrate DSO from a different project, and run it on real-time input data.\n",
    "It does not provide a full ROS interface (no reconfigure / pointcloud output / pose output).\n",
    "To access computed information in real-time, I recommend to implement your own Output3DWrapper; see the DSO code.\n",
    "\n",
    "\n",
    "### Related Papers\n",
    "\n",
    "* **Direct Sparse Odometry**, *J. Engel, V. Koltun, D. Cremers*, In arXiv:1607.02565, 2016\n",
    "\n",
    "* **A Photometrically Calibrated Benchmark For Monocular Visual Odometry**, *J. Engel, V. Usenko, D. Cremers*, In arXiv:1607.02555, 2016\n",
    "\n",
    "\n",
    "\n",
    "# 1. Installation\n",
    "\n",
    "1. Install DSO. We need DSO to be compiled with OpenCV (to read the vignette image), and with Pangolin (for 3D visualization).\n",
    "2. run"
   ]
  },
  {
   "cell_type": "code",
   "execution_count": null,
   "metadata": {},
   "outputs": [],
   "source": [
    "\texport DSO_PATH=[PATH_TO_DSO]/dso\n",
    "\trosmake\n",
    "\n"
   ]
  },
  {
   "cell_type": "markdown",
   "metadata": {},
   "source": [
    "# 3 Usage\n",
    "everything as described in the DSO project - only this is for real-time camera input."
   ]
  },
  {
   "cell_type": "code",
   "execution_count": null,
   "metadata": {},
   "outputs": [],
   "source": [
    "\trosrun dso_ros dso_live image:=image_raw \\\n",
    "\t\tcalib=XXXXX/camera.txt \\\n",
    "\t\tgamma=XXXXX/pcalib.txt \\\n",
    "\t\tvignette=XXXXX/vignette.png \\\n"
   ]
  },
  {
   "cell_type": "markdown",
   "metadata": {},
   "source": [
    "## 3.1 Accessing Data.\n",
    "see the DSO Readme. As of now, there is no default ROS-based `Output3DWrapper` - you will have to write your own.\n",
    "\n",
    "\n",
    "\n",
    "\n",
    "# 4 Dependencies\n",
    "\n",
    "## 4.1 Pangolin\n",
    "removing"
   ]
  },
  {
   "cell_type": "code",
   "execution_count": null,
   "metadata": {},
   "outputs": [],
   "source": [
    "    fullSystem->outputWrapper = new IOWrap::PangolinDSOViewer(\n",
    "    \t\t (int)undistorter->getSize()[0],\n",
    "    \t\t (int)undistorter->getSize()[1]);"
   ]
  },
  {
   "cell_type": "markdown",
   "metadata": {},
   "source": [
    "will allow you to use DSO compiled without Pangolin. However, then there is no 3D visualization.\n",
    "You can also implement your own Output3DWrapper to fit your needs.\n",
    "\n",
    "## 4.2 OpenCV\n",
    "you can use DSO compiled without OpenCV. \n",
    "In that case, the vignette image will not be read, and no photometric calibration can be used. Also, there will not be any image visualizations / image saving.\n",
    "You can also implement your own version of ImageRW.h / ImageDisplay.h, instead of the dummies.\n",
    "\n",
    "\n",
    "### 5 License\n",
    "This ROS wrapper around DSO is licensed under the GNU General Public License\n",
    "Version 3 (GPLv3).\n",
    "For commercial purposes, we also offer a professional version, see\n",
    "[http://vision.in.tum.de/dso](http://vision.in.tum.de/dso) for details."
   ]
  }
 ],
 "metadata": {
  "kernelspec": {
   "display_name": "Bash",
   "language": "bash",
   "name": "bash"
  },
  "language_info": {
   "codemirror_mode": "shell",
   "file_extension": ".sh",
   "mimetype": "text/x-sh",
   "name": "bash"
  }
 },
 "nbformat": 4,
 "nbformat_minor": 2
}
